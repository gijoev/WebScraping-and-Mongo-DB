{
 "cells": [
  {
   "cell_type": "markdown",
   "metadata": {},
   "source": [
    "<h3>Setup</h3>\n",
    "\n",
    "Use splinter to navigate the sites when needed and BeautifulSoup to help find and parse out the necessary data."
   ]
  },
  {
   "cell_type": "code",
   "execution_count": 2,
   "metadata": {
    "collapsed": true
   },
   "outputs": [],
   "source": [
    "# Dependencies\n",
    "import os\n",
    "from bs4 import BeautifulSoup as bs\n",
    "#from bs4 import BeautifulSoup\n",
    "import requests\n",
    "import splinter\n",
    "from splinter import Browser\n",
    "#browser = Browser(\"chrome\", headless = False)\n",
    "browser = Browser(\"chrome\", headless=False)"
   ]
  },
  {
   "cell_type": "code",
   "execution_count": 2,
   "metadata": {},
   "outputs": [
    {
     "name": "stdout",
     "output_type": "stream",
     "text": [
      "C:\\Users\\nisha\\OneDrive\\DATASCIENCE\\Week13MongoDBBeautifulSoup\\Homework\\Web-Scraping-and-Mongo-DB\\chromedriver.exe\n"
     ]
    }
   ],
   "source": [
    "!where chromedriver"
   ]
  },
  {
   "cell_type": "code",
   "execution_count": 19,
   "metadata": {
    "collapsed": true
   },
   "outputs": [],
   "source": [
    "##Response Method.\n",
    "url = \"https://mars.nasa.gov/news/\"\n",
    "# Retrieve page with the requests module\n",
    "response = requests.get(url)\n",
    "# Create BeautifulSoup object; parse with 'html.parser'\n",
    "soup = bs(response.text, 'html.parser')\n",
    "# Examine the results, then determine element that contains sought info\n",
    "#print(soup.prettify())"
   ]
  },
  {
   "cell_type": "code",
   "execution_count": 28,
   "metadata": {},
   "outputs": [
    {
     "data": {
      "text/plain": [
       "'News  – NASA’s Mars Exploration Program '"
      ]
     },
     "execution_count": 28,
     "metadata": {},
     "output_type": "execute_result"
    }
   ],
   "source": [
    "##Browser Method.\n",
    "## NASA Mars News## NASA \n",
    "#URL of page to be scraped\n",
    "url = 'https://mars.nasa.gov/news/'\n",
    "browser.visit(url)\n",
    "\n",
    "html=browser.html\n",
    "soup = bs(html, 'html.parser')\n",
    "#Test by checking if Title shows up\n",
    "soup.title.text"
   ]
  },
  {
   "cell_type": "markdown",
   "metadata": {},
   "source": [
    "<h2>NASA Mars News</h2><hr>\n",
    "<blockquote><strong>Website to Scrape:</strong> https://mars.nasa.gov/news/</blockquote>\n",
    "<p>Instructions: Scrape the NASA Mars News Site and collect the latest News Title and Paragragh Text. \n",
    "Assign the text to variables that you can reference later.</p>\n",
    "<p>Please note that I have demonstrated a few ways to get the latest News Title and Paragraph.</p>"
   ]
  },
  {
   "cell_type": "markdown",
   "metadata": {},
   "source": [
    "Approach 1"
   ]
  },
  {
   "cell_type": "code",
   "execution_count": 36,
   "metadata": {},
   "outputs": [
    {
     "name": "stdout",
     "output_type": "stream",
     "text": [
      "Mars Helicopter to Fly on NASA’s Next Red Planet Rover Mission\n",
      "NASA is adding a Mars helicopter to the agency’s next mission to the Red Planet, Mars 2020.\n"
     ]
    }
   ],
   "source": [
    "# Scrape the NASA Mars News Site and collect the latest News Title and Paragragh Text. \n",
    "##Approach 1. \n",
    "title = soup.find('div', class_=\"content_title\").text\n",
    "print(title)\n",
    "para = soup.find('div', class_=\"article_teaser_body\").text\n",
    "print(para)\n",
    "# news_p = soup.find(\"div\", class_=\"article_teaser_body\")  <-MY ORIGINAL\n",
    "# print(news_p)"
   ]
  },
  {
   "cell_type": "markdown",
   "metadata": {},
   "source": [
    "Approach 2"
   ]
  },
  {
   "cell_type": "code",
   "execution_count": 35,
   "metadata": {},
   "outputs": [
    {
     "name": "stdout",
     "output_type": "stream",
     "text": [
      "Mars Helicopter to Fly on NASA’s Next Red Planet Rover Mission\n",
      "NASA is adding a Mars helicopter to the agency’s next mission to the Red Planet, Mars 2020.\n"
     ]
    }
   ],
   "source": [
    "#Approach 2.\n",
    "news_title = soup.find('div', class_ = \"content_title\").text\n",
    "print(news_title)\n",
    "#news_p = soup.find(\"div\", class_ = \"article_teaser_body\")\n",
    "news_p = soup.find('div', class_=\"rollover_description_inner\").text\n",
    "print(news_p)"
   ]
  },
  {
   "cell_type": "markdown",
   "metadata": {},
   "source": [
    "Approach 3"
   ]
  },
  {
   "cell_type": "code",
   "execution_count": 37,
   "metadata": {},
   "outputs": [
    {
     "data": {
      "text/plain": [
       "<div class=\"article_teaser_body\">NASA is adding a Mars helicopter to the agency’s next mission to the Red Planet, Mars 2020.</div>"
      ]
     },
     "execution_count": 37,
     "metadata": {},
     "output_type": "execute_result"
    }
   ],
   "source": [
    "#Approach 3.\n",
    "#Iterate through homepage and all articles to find title and paragraph objects\n",
    "#news_title = \"Vice President Pence Visits JPL, Previews NASA’s Next Mars Mission Launch\"\n",
    "#news_p = \"A week before NASA launches its next mission to Mars, Vice President Mike Pence toured on Saturday, April 28, the birthplace of numerous past, present and future space missions at the agency’s Jet Propulsion Laboratory in Pasadena, California.\"\n",
    "\n",
    "#Append Lists through parsing\n",
    "news_title_lists = []\n",
    "url_lists = []\n",
    "news_url_lists = []\n",
    "news_paragraph_lists = []\n",
    "\n",
    "#Set browser as html object\n",
    "html = browser.html\n",
    "#Parse HTML using Beautiful Soup\n",
    "soup = bs(html, \"html.parser\")\n",
    "sidebar = soup.find(\"ul\", class_=\"item_list\")\n",
    "categories = sidebar.find_all(\"li\")\n",
    "#print(categories)\n",
    "#print(sidebar)\n",
    "#Retrieve all elements\n",
    "for category in categories:\n",
    "    news_url = category.find(\"a\")[\"href\"]\n",
    "    url_lists.append(news_url)\n",
    "    titles = category.find(class_=\"content_title\")\n",
    "    paragraph = category.find(class_=\"article_teaser_body\")\n",
    "    news_paragraph_lists.append(paragraph)\n",
    "    for title in titles:\n",
    "        headings = title.text.strip()\n",
    "        news_title_lists.append(title)\n",
    "\n",
    "#Append news_url_lists by concatenating url with news links\n",
    "\n",
    "news_url_lists = [\"https://mars.nasa.gov/news/?page=0&per_page=40&order=publish_date+desc%2Ccreated_at+desc&search=&category=19%2C165%2C184%2C204&blank_scope=Latest\" + url for url in url_lists]\n",
    "\n",
    "news_title_lists[0]\n",
    "\n",
    "news_paragraph_lists[0]"
   ]
  },
  {
   "cell_type": "code",
   "execution_count": 39,
   "metadata": {
    "collapsed": true
   },
   "outputs": [],
   "source": [
    "##Tested Find Alls.\n",
    "# news_p1 = soup.find_all('div', class_=\"rollover_description_inner\")\n",
    "# print(news_p1)\n",
    "# news_title = soup.find_all('div', class_ = \"content_title\")\n",
    "# print(news_title)"
   ]
  },
  {
   "cell_type": "markdown",
   "metadata": {},
   "source": [
    "<h3>JPL Mars Space Images - Featured Image</h3><hr>\n",
    "<blockquote><strong>URL Used for Scraping: </strong>https://www.jpl.nasa.gov/spaceimages/?search=&category=Mars</blockquote>"
   ]
  },
  {
   "cell_type": "code",
   "execution_count": 43,
   "metadata": {
    "collapsed": true
   },
   "outputs": [],
   "source": [
    "# Visit the url for JPL's Featured Space Image here.\n",
    "\n",
    "# Use splinter to navigate the site and find the image url for the current Featured Mars Image \n",
    "#and assign the url string to a variable called featured_image_url.\n",
    "jpl_url = \"https://www.jpl.nasa.gov/spaceimages/?search=&category=Mars\"\n",
    "#featured_image_url_med = \"https://www.jpl.nasa.gov//spaceimages/images/mediumsize/PIA16883_ip.jpg\"\n",
    "featured_image_url = \"https://www.jpl.nasa.gov/spaceimages/images/wallpaper/PIA16883-1920x1200.jpg\"\n",
    "# Make sure to save a complete url string for this image.Make sure to find the image url to the full size .jpg image. \n",
    "browser.visit(featured_image_url)"
   ]
  },
  {
   "cell_type": "code",
   "execution_count": 50,
   "metadata": {
    "collapsed": true
   },
   "outputs": [],
   "source": [
    "##The featured image keeps changing everyday. \n",
    "#featured_image_url = \"https://www.jpl.nasa.gov/spaceimages/images/largesize/PIA16919_hires.jpg\"\n",
    "# browser.visit(featured_image_url)\n",
    "###############################################################################\n",
    "# jpl_url = 'https://www.jpl.nasa.gov/spaceimages/?search=&category=Mars'\n",
    "# featured_image_url = 'https://www.jpl.nasa.gov/spaceimages/images/mediumsize/PIA16028_ip.jpg'\n",
    "# browser.visit(featured_image_url)"
   ]
  },
  {
   "cell_type": "code",
   "execution_count": 1,
   "metadata": {},
   "outputs": [
    {
     "ename": "NameError",
     "evalue": "name 'browser' is not defined",
     "output_type": "error",
     "traceback": [
      "\u001b[1;31m---------------------------------------------------------------------------\u001b[0m",
      "\u001b[1;31mNameError\u001b[0m                                 Traceback (most recent call last)",
      "\u001b[1;32m<ipython-input-1-924ab8697781>\u001b[0m in \u001b[0;36m<module>\u001b[1;34m()\u001b[0m\n\u001b[0;32m      1\u001b[0m \u001b[0mjpl_url\u001b[0m \u001b[1;33m=\u001b[0m \u001b[1;34m\"https://www.jpl.nasa.gov/spaceimages/?search=&category=Mars\"\u001b[0m\u001b[1;33m\u001b[0m\u001b[0m\n\u001b[1;32m----> 2\u001b[1;33m \u001b[0mbrowser\u001b[0m\u001b[1;33m.\u001b[0m\u001b[0mvisit\u001b[0m\u001b[1;33m(\u001b[0m\u001b[0mjpl_url\u001b[0m\u001b[1;33m)\u001b[0m\u001b[1;33m\u001b[0m\u001b[0m\n\u001b[0m\u001b[0;32m      3\u001b[0m \u001b[1;31m#navigate to link\u001b[0m\u001b[1;33m\u001b[0m\u001b[1;33m\u001b[0m\u001b[0m\n\u001b[0;32m      4\u001b[0m \u001b[0mbrowser\u001b[0m\u001b[1;33m.\u001b[0m\u001b[0mclick_link_by_partial_text\u001b[0m\u001b[1;33m(\u001b[0m\u001b[1;34m'FULL IMAGE'\u001b[0m\u001b[1;33m)\u001b[0m\u001b[1;33m\u001b[0m\u001b[0m\n\u001b[0;32m      5\u001b[0m \u001b[0mtime\u001b[0m\u001b[1;33m.\u001b[0m\u001b[0msleep\u001b[0m\u001b[1;33m(\u001b[0m\u001b[1;36m20\u001b[0m\u001b[1;33m)\u001b[0m\u001b[1;33m\u001b[0m\u001b[0m\n",
      "\u001b[1;31mNameError\u001b[0m: name 'browser' is not defined"
     ]
    }
   ],
   "source": [
    "jpl_url = \"https://www.jpl.nasa.gov/spaceimages/?search=&category=Mars\"\n",
    "browser.visit(jpl_url)\n",
    "#navigate to link\n",
    "browser.click_link_by_partial_text('FULL IMAGE')\n",
    "time.sleep(20)\n",
    "browser.click_link_by_partial_text('more info')\n",
    "image_html = browser.html\n",
    "soup = bs(image_html, \"html.parser\")\n",
    "image_path = soup.find('figure', class_='lede').a['href']\n",
    "featured_image_url = \"https://www.jpl.nasa.gov/\" + image_path"
   ]
  },
  {
   "cell_type": "markdown",
   "metadata": {},
   "source": [
    "<h3>Mars Weather</h3><hr>\n",
    "<blockquote><strong>Mars Weather Twitter account Link: </strong> https://twitter.com/marswxreport?lang=en <br></blockquote>\n",
    "Visit the Mars Weather twitter account listed in the URL above and scrape the latest Mars weather tweet from the page. Save the tweet text for the weather report as a variable called mars_weather.<br>\n",
    "Example:\n",
    "mars_weather = 'Sol 1801 (Aug 30, 2017), Sunny, high -21C/-5F, low -80C/-112F, pressure at 8.82 hPa, daylight 06:09-17:55'"
   ]
  },
  {
   "cell_type": "code",
   "execution_count": 58,
   "metadata": {},
   "outputs": [
    {
     "name": "stdout",
     "output_type": "stream",
     "text": [
      "Sol 2047 (May 10, 2018), Sunny, high 3C/37F, low -71C/-95F, pressure at 7.33 hPa, daylight 05:22-17:20\n"
     ]
    }
   ],
   "source": [
    "twitter_url = \"https://twitter.com/marswxreport?lang=en \"\n",
    "twitter_response = requests.get(twitter_url)\n",
    "soup_weather = bs(twitter_response.text, 'html.parser')\n",
    "mars_weather = soup_weather.find(\"p\", class_=\"TweetTextSize TweetTextSize--normal js-tweet-text tweet-text\").text\n",
    "#mars_weather = soup_weather.find(\"p\", class_ = \"TweetTextSize TweetTextSize--normal js-tweet-text tweet-text\" data-aria-label-part=\"0\" lang=\"en\")\n",
    "print(mars_weather)"
   ]
  },
  {
   "cell_type": "code",
   "execution_count": 51,
   "metadata": {
    "collapsed": true
   },
   "outputs": [],
   "source": [
    "# Examine the results, then determine element that contains sought info\n",
    "#print(soup_weather.prettify())"
   ]
  },
  {
   "cell_type": "markdown",
   "metadata": {},
   "source": [
    "Approach 2"
   ]
  },
  {
   "cell_type": "code",
   "execution_count": 59,
   "metadata": {},
   "outputs": [
    {
     "data": {
      "text/plain": [
       "'Sol 2047 (May 10, 2018), Sunny, high 3C/37F, low -71C/-95F, pressure at 7.33 hPa, daylight 05:22-17:20'"
      ]
     },
     "execution_count": 59,
     "metadata": {},
     "output_type": "execute_result"
    }
   ],
   "source": [
    "##Browser Method generates same results. (Second Approach)\n",
    "url = 'https://twitter.com/marswxreport?lang=en'\n",
    "browser.visit(url)\n",
    "html = browser.html\n",
    "soup = bs(html, 'html.parser')\n",
    "mars_weather = soup.find('p', 'TweetTextSize TweetTextSize--normal js-tweet-text tweet-text').text\n",
    "mars_weather"
   ]
  },
  {
   "cell_type": "markdown",
   "metadata": {},
   "source": [
    "<h3>Mars Weather</h3>\n",
    "<blockquote><strong>Mars fact URL: </strong>https://space-facts.com/mars/</blockquote>\n",
    "Visit the Mars Facts webpage in the URL above and use Pandas to scrape the table containing facts about the planet including Diameter, Mass, etc.\n",
    "Use Pandas to convert the data to a HTML table string."
   ]
  },
  {
   "cell_type": "code",
   "execution_count": 97,
   "metadata": {
    "collapsed": true
   },
   "outputs": [],
   "source": [
    "import pandas as pd"
   ]
  },
  {
   "cell_type": "code",
   "execution_count": 98,
   "metadata": {
    "collapsed": true
   },
   "outputs": [],
   "source": [
    "url = \"https://space-facts.com/mars/\""
   ]
  },
  {
   "cell_type": "code",
   "execution_count": 99,
   "metadata": {},
   "outputs": [
    {
     "data": {
      "text/plain": [
       "[                      0                              1\n",
       " 0  Equatorial Diameter:                       6,792 km\n",
       " 1       Polar Diameter:                       6,752 km\n",
       " 2                 Mass:  6.42 x 10^23 kg (10.7% Earth)\n",
       " 3                Moons:            2 (Phobos & Deimos)\n",
       " 4       Orbit Distance:       227,943,824 km (1.52 AU)\n",
       " 5         Orbit Period:           687 days (1.9 years)\n",
       " 6  Surface Temperature:                  -153 to 20 °C\n",
       " 7         First Record:              2nd millennium BC\n",
       " 8          Recorded By:           Egyptian astronomers]"
      ]
     },
     "execution_count": 99,
     "metadata": {},
     "output_type": "execute_result"
    }
   ],
   "source": [
    "#We can use the read_html function in Pandas to automatically scrape any tabular data from a page.\n",
    "tables = pd.read_html(url)\n",
    "tables"
   ]
  },
  {
   "cell_type": "code",
   "execution_count": 100,
   "metadata": {},
   "outputs": [
    {
     "data": {
      "text/plain": [
       "list"
      ]
     },
     "execution_count": 100,
     "metadata": {},
     "output_type": "execute_result"
    }
   ],
   "source": [
    "type(tables)"
   ]
  },
  {
   "cell_type": "code",
   "execution_count": 101,
   "metadata": {},
   "outputs": [
    {
     "data": {
      "text/html": [
       "<div>\n",
       "<style>\n",
       "    .dataframe thead tr:only-child th {\n",
       "        text-align: right;\n",
       "    }\n",
       "\n",
       "    .dataframe thead th {\n",
       "        text-align: left;\n",
       "    }\n",
       "\n",
       "    .dataframe tbody tr th {\n",
       "        vertical-align: top;\n",
       "    }\n",
       "</style>\n",
       "<table border=\"1\" class=\"dataframe\">\n",
       "  <thead>\n",
       "    <tr style=\"text-align: right;\">\n",
       "      <th></th>\n",
       "      <th>0</th>\n",
       "      <th>1</th>\n",
       "    </tr>\n",
       "  </thead>\n",
       "  <tbody>\n",
       "    <tr>\n",
       "      <th>0</th>\n",
       "      <td>Equatorial Diameter:</td>\n",
       "      <td>6,792 km</td>\n",
       "    </tr>\n",
       "    <tr>\n",
       "      <th>1</th>\n",
       "      <td>Polar Diameter:</td>\n",
       "      <td>6,752 km</td>\n",
       "    </tr>\n",
       "    <tr>\n",
       "      <th>2</th>\n",
       "      <td>Mass:</td>\n",
       "      <td>6.42 x 10^23 kg (10.7% Earth)</td>\n",
       "    </tr>\n",
       "    <tr>\n",
       "      <th>3</th>\n",
       "      <td>Moons:</td>\n",
       "      <td>2 (Phobos &amp; Deimos)</td>\n",
       "    </tr>\n",
       "    <tr>\n",
       "      <th>4</th>\n",
       "      <td>Orbit Distance:</td>\n",
       "      <td>227,943,824 km (1.52 AU)</td>\n",
       "    </tr>\n",
       "  </tbody>\n",
       "</table>\n",
       "</div>"
      ],
      "text/plain": [
       "                      0                              1\n",
       "0  Equatorial Diameter:                       6,792 km\n",
       "1       Polar Diameter:                       6,752 km\n",
       "2                 Mass:  6.42 x 10^23 kg (10.7% Earth)\n",
       "3                Moons:            2 (Phobos & Deimos)\n",
       "4       Orbit Distance:       227,943,824 km (1.52 AU)"
      ]
     },
     "execution_count": 101,
     "metadata": {},
     "output_type": "execute_result"
    }
   ],
   "source": [
    "df = tables[0]\n",
    "# df.columns = ['Equatorial Diameter', 'Polar Diameter', 'Mass', 'Moons', \n",
    "#               'Orbit Distance', 'Orbit Period', 'Surface Temperature', 'First Record', \n",
    "#               'Recorded By']\n",
    "\n",
    "#df.columns = ['One', 'Two']\n",
    "df.head()"
   ]
  },
  {
   "cell_type": "code",
   "execution_count": 108,
   "metadata": {
    "collapsed": true
   },
   "outputs": [],
   "source": [
    "mars_df = df.transpose()"
   ]
  },
  {
   "cell_type": "code",
   "execution_count": 109,
   "metadata": {},
   "outputs": [
    {
     "data": {
      "text/html": [
       "<div>\n",
       "<style>\n",
       "    .dataframe thead tr:only-child th {\n",
       "        text-align: right;\n",
       "    }\n",
       "\n",
       "    .dataframe thead th {\n",
       "        text-align: left;\n",
       "    }\n",
       "\n",
       "    .dataframe tbody tr th {\n",
       "        vertical-align: top;\n",
       "    }\n",
       "</style>\n",
       "<table border=\"1\" class=\"dataframe\">\n",
       "  <thead>\n",
       "    <tr style=\"text-align: right;\">\n",
       "      <th></th>\n",
       "      <th>0</th>\n",
       "      <th>1</th>\n",
       "      <th>2</th>\n",
       "      <th>3</th>\n",
       "      <th>4</th>\n",
       "      <th>5</th>\n",
       "      <th>6</th>\n",
       "      <th>7</th>\n",
       "      <th>8</th>\n",
       "    </tr>\n",
       "  </thead>\n",
       "  <tbody>\n",
       "    <tr>\n",
       "      <th>0</th>\n",
       "      <td>Equatorial Diameter:</td>\n",
       "      <td>Polar Diameter:</td>\n",
       "      <td>Mass:</td>\n",
       "      <td>Moons:</td>\n",
       "      <td>Orbit Distance:</td>\n",
       "      <td>Orbit Period:</td>\n",
       "      <td>Surface Temperature:</td>\n",
       "      <td>First Record:</td>\n",
       "      <td>Recorded By:</td>\n",
       "    </tr>\n",
       "    <tr>\n",
       "      <th>1</th>\n",
       "      <td>6,792 km</td>\n",
       "      <td>6,752 km</td>\n",
       "      <td>6.42 x 10^23 kg (10.7% Earth)</td>\n",
       "      <td>2 (Phobos &amp; Deimos)</td>\n",
       "      <td>227,943,824 km (1.52 AU)</td>\n",
       "      <td>687 days (1.9 years)</td>\n",
       "      <td>-153 to 20 °C</td>\n",
       "      <td>2nd millennium BC</td>\n",
       "      <td>Egyptian astronomers</td>\n",
       "    </tr>\n",
       "  </tbody>\n",
       "</table>\n",
       "</div>"
      ],
      "text/plain": [
       "                      0                1                              2  \\\n",
       "0  Equatorial Diameter:  Polar Diameter:                          Mass:   \n",
       "1              6,792 km         6,752 km  6.42 x 10^23 kg (10.7% Earth)   \n",
       "\n",
       "                     3                         4                     5  \\\n",
       "0               Moons:           Orbit Distance:         Orbit Period:   \n",
       "1  2 (Phobos & Deimos)  227,943,824 km (1.52 AU)  687 days (1.9 years)   \n",
       "\n",
       "                      6                  7                     8  \n",
       "0  Surface Temperature:      First Record:          Recorded By:  \n",
       "1         -153 to 20 °C  2nd millennium BC  Egyptian astronomers  "
      ]
     },
     "execution_count": 109,
     "metadata": {},
     "output_type": "execute_result"
    }
   ],
   "source": [
    "mars_df"
   ]
  },
  {
   "cell_type": "code",
   "execution_count": 110,
   "metadata": {
    "collapsed": true
   },
   "outputs": [],
   "source": [
    "mars_df.columns = ['Equatorial Diameter', 'Polar Diameter', 'Mass', 'Moons', \n",
    "              'Orbit Distance', 'Orbit Period', 'Surface Temperature', 'First Record', \n",
    "              'Recorded By']\n",
    "#df.reset_index()"
   ]
  },
  {
   "cell_type": "code",
   "execution_count": 111,
   "metadata": {},
   "outputs": [
    {
     "data": {
      "text/html": [
       "<div>\n",
       "<style>\n",
       "    .dataframe thead tr:only-child th {\n",
       "        text-align: right;\n",
       "    }\n",
       "\n",
       "    .dataframe thead th {\n",
       "        text-align: left;\n",
       "    }\n",
       "\n",
       "    .dataframe tbody tr th {\n",
       "        vertical-align: top;\n",
       "    }\n",
       "</style>\n",
       "<table border=\"1\" class=\"dataframe\">\n",
       "  <thead>\n",
       "    <tr style=\"text-align: right;\">\n",
       "      <th></th>\n",
       "      <th>Equatorial Diameter</th>\n",
       "      <th>Polar Diameter</th>\n",
       "      <th>Mass</th>\n",
       "      <th>Moons</th>\n",
       "      <th>Orbit Distance</th>\n",
       "      <th>Orbit Period</th>\n",
       "      <th>Surface Temperature</th>\n",
       "      <th>First Record</th>\n",
       "      <th>Recorded By</th>\n",
       "    </tr>\n",
       "  </thead>\n",
       "  <tbody>\n",
       "    <tr>\n",
       "      <th>0</th>\n",
       "      <td>Equatorial Diameter:</td>\n",
       "      <td>Polar Diameter:</td>\n",
       "      <td>Mass:</td>\n",
       "      <td>Moons:</td>\n",
       "      <td>Orbit Distance:</td>\n",
       "      <td>Orbit Period:</td>\n",
       "      <td>Surface Temperature:</td>\n",
       "      <td>First Record:</td>\n",
       "      <td>Recorded By:</td>\n",
       "    </tr>\n",
       "    <tr>\n",
       "      <th>1</th>\n",
       "      <td>6,792 km</td>\n",
       "      <td>6,752 km</td>\n",
       "      <td>6.42 x 10^23 kg (10.7% Earth)</td>\n",
       "      <td>2 (Phobos &amp; Deimos)</td>\n",
       "      <td>227,943,824 km (1.52 AU)</td>\n",
       "      <td>687 days (1.9 years)</td>\n",
       "      <td>-153 to 20 °C</td>\n",
       "      <td>2nd millennium BC</td>\n",
       "      <td>Egyptian astronomers</td>\n",
       "    </tr>\n",
       "  </tbody>\n",
       "</table>\n",
       "</div>"
      ],
      "text/plain": [
       "    Equatorial Diameter   Polar Diameter                           Mass  \\\n",
       "0  Equatorial Diameter:  Polar Diameter:                          Mass:   \n",
       "1              6,792 km         6,752 km  6.42 x 10^23 kg (10.7% Earth)   \n",
       "\n",
       "                 Moons            Orbit Distance          Orbit Period  \\\n",
       "0               Moons:           Orbit Distance:         Orbit Period:   \n",
       "1  2 (Phobos & Deimos)  227,943,824 km (1.52 AU)  687 days (1.9 years)   \n",
       "\n",
       "    Surface Temperature       First Record           Recorded By  \n",
       "0  Surface Temperature:      First Record:          Recorded By:  \n",
       "1         -153 to 20 °C  2nd millennium BC  Egyptian astronomers  "
      ]
     },
     "execution_count": 111,
     "metadata": {},
     "output_type": "execute_result"
    }
   ],
   "source": [
    "mars_df.head()"
   ]
  },
  {
   "cell_type": "code",
   "execution_count": 112,
   "metadata": {},
   "outputs": [
    {
     "data": {
      "text/html": [
       "<div>\n",
       "<style>\n",
       "    .dataframe thead tr:only-child th {\n",
       "        text-align: right;\n",
       "    }\n",
       "\n",
       "    .dataframe thead th {\n",
       "        text-align: left;\n",
       "    }\n",
       "\n",
       "    .dataframe tbody tr th {\n",
       "        vertical-align: top;\n",
       "    }\n",
       "</style>\n",
       "<table border=\"1\" class=\"dataframe\">\n",
       "  <thead>\n",
       "    <tr style=\"text-align: right;\">\n",
       "      <th></th>\n",
       "      <th>Equatorial Diameter</th>\n",
       "      <th>Polar Diameter</th>\n",
       "      <th>Mass</th>\n",
       "      <th>Moons</th>\n",
       "      <th>Orbit Distance</th>\n",
       "      <th>Orbit Period</th>\n",
       "      <th>Surface Temperature</th>\n",
       "      <th>First Record</th>\n",
       "      <th>Recorded By</th>\n",
       "    </tr>\n",
       "  </thead>\n",
       "  <tbody>\n",
       "    <tr>\n",
       "      <th>1</th>\n",
       "      <td>6,792 km</td>\n",
       "      <td>6,752 km</td>\n",
       "      <td>6.42 x 10^23 kg (10.7% Earth)</td>\n",
       "      <td>2 (Phobos &amp; Deimos)</td>\n",
       "      <td>227,943,824 km (1.52 AU)</td>\n",
       "      <td>687 days (1.9 years)</td>\n",
       "      <td>-153 to 20 °C</td>\n",
       "      <td>2nd millennium BC</td>\n",
       "      <td>Egyptian astronomers</td>\n",
       "    </tr>\n",
       "  </tbody>\n",
       "</table>\n",
       "</div>"
      ],
      "text/plain": [
       "  Equatorial Diameter Polar Diameter                           Mass  \\\n",
       "1            6,792 km       6,752 km  6.42 x 10^23 kg (10.7% Earth)   \n",
       "\n",
       "                 Moons            Orbit Distance          Orbit Period  \\\n",
       "1  2 (Phobos & Deimos)  227,943,824 km (1.52 AU)  687 days (1.9 years)   \n",
       "\n",
       "  Surface Temperature       First Record           Recorded By  \n",
       "1       -153 to 20 °C  2nd millennium BC  Egyptian astronomers  "
      ]
     },
     "execution_count": 112,
     "metadata": {},
     "output_type": "execute_result"
    }
   ],
   "source": [
    "#Cleanup of extra rows\n",
    "mars_df = mars_df.iloc[1:]\n",
    "mars_df.head()"
   ]
  },
  {
   "cell_type": "code",
   "execution_count": 113,
   "metadata": {},
   "outputs": [
    {
     "data": {
      "text/plain": [
       "'<table border=\"1\" class=\"dataframe\">\\n  <thead>\\n    <tr style=\"text-align: right;\">\\n      <th>Equatorial Diameter</th>\\n      <th>Polar Diameter</th>\\n      <th>Mass</th>\\n      <th>Moons</th>\\n      <th>Orbit Distance</th>\\n      <th>Orbit Period</th>\\n      <th>Surface Temperature</th>\\n      <th>First Record</th>\\n      <th>Recorded By</th>\\n    </tr>\\n  </thead>\\n  <tbody>\\n    <tr>\\n      <td>6,792 km</td>\\n      <td>6,752 km</td>\\n      <td>6.42 x 10^23 kg (10.7% Earth)</td>\\n      <td>2 (Phobos &amp; Deimos)</td>\\n      <td>227,943,824 km (1.52 AU)</td>\\n      <td>687 days (1.9 years)</td>\\n      <td>-153 to 20 °C</td>\\n      <td>2nd millennium BC</td>\\n      <td>Egyptian astronomers</td>\\n    </tr>\\n  </tbody>\\n</table>'"
      ]
     },
     "execution_count": 113,
     "metadata": {},
     "output_type": "execute_result"
    }
   ],
   "source": [
    "#Pandas also had a to_html method that we can use to generate HTML tables from DataFrames.\n",
    "# get html code for DataFrame\n",
    "fact_table = mars_df.to_html(index = False)\n",
    "#header = False, \n",
    "fact_table"
   ]
  },
  {
   "cell_type": "code",
   "execution_count": 116,
   "metadata": {},
   "outputs": [
    {
     "data": {
      "text/plain": [
       "'<table border=\"1\" class=\"dataframe\">  <thead>    <tr style=\"text-align: right;\">      <th>Equatorial Diameter</th>      <th>Polar Diameter</th>      <th>Mass</th>      <th>Moons</th>      <th>Orbit Distance</th>      <th>Orbit Period</th>      <th>Surface Temperature</th>      <th>First Record</th>      <th>Recorded By</th>    </tr>  </thead>  <tbody>    <tr>      <td>6,792 km</td>      <td>6,752 km</td>      <td>6.42 x 10^23 kg (10.7% Earth)</td>      <td>2 (Phobos &amp; Deimos)</td>      <td>227,943,824 km (1.52 AU)</td>      <td>687 days (1.9 years)</td>      <td>-153 to 20 °C</td>      <td>2nd millennium BC</td>      <td>Egyptian astronomers</td>    </tr>  </tbody></table>'"
      ]
     },
     "execution_count": 116,
     "metadata": {},
     "output_type": "execute_result"
    }
   ],
   "source": [
    "#Strip unwanted newlines to clean up the table.\n",
    "#fact_table.format()\n",
    "fact_table.replace('\\n', '')"
   ]
  },
  {
   "cell_type": "code",
   "execution_count": 117,
   "metadata": {
    "collapsed": true
   },
   "outputs": [],
   "source": [
    "# save the table directly to a file.\n",
    "mars_df.to_html('fact_table.html')"
   ]
  },
  {
   "cell_type": "markdown",
   "metadata": {},
   "source": [
    "<h3>Mars Hemispheres</h3>\n",
    "<blockquote><strong>USGS Astrogeology URL: </strong> https://astrogeology.usgs.gov/search/results?q=hemisphere+enhanced&k1=target&v1=Mars</blockquote>\n",
    "Visit the USGS Astrogeology site here to obtain high resolution images for each of Mar's hemispheres.\n",
    "You will need to click each of the links to the hemispheres in order to find the image url to the full resolution image.\n",
    "Save both the image url string for the full resolution hemipshere image, and the Hemisphere title containing the hemisphere name. Use a Python dictionary to store the data using the keys img_url and title.\n",
    "Append the dictionary with the image url string and the hemisphere title to a list. This list will contain one dictionary for each hemisphere."
   ]
  },
  {
   "cell_type": "code",
   "execution_count": 74,
   "metadata": {
    "collapsed": true
   },
   "outputs": [],
   "source": [
    "import pprint"
   ]
  },
  {
   "cell_type": "code",
   "execution_count": 64,
   "metadata": {
    "collapsed": true
   },
   "outputs": [],
   "source": [
    "usgs_url = 'https://astrogeology.usgs.gov/search/results?q=hemisphere+enhanced&k1=target&v1=Mars'\n",
    "browser.visit(usgs_url)\n",
    "usgs_html = browser.html\n",
    "soup = bs(usgs_html, 'html.parser')\n",
    "# Examine the results, then determine element that contains sought info\n",
    "#print(soup.prettify())"
   ]
  },
  {
   "cell_type": "code",
   "execution_count": 65,
   "metadata": {},
   "outputs": [
    {
     "data": {
      "text/plain": [
       "[<a class=\"itemLink product-item\" href=\"/search/map/Mars/Viking/cerberus_enhanced\"><img alt=\"Cerberus Hemisphere Enhanced thumbnail\" class=\"thumb\" src=\"/cache/images/dfaf3849e74bf973b59eb50dab52b583_cerberus_enhanced.tif_thumb.png\"/></a>,\n",
       " <a class=\"itemLink product-item\" href=\"/search/map/Mars/Viking/cerberus_enhanced\"><h3>Cerberus Hemisphere Enhanced</h3></a>,\n",
       " <a class=\"itemLink product-item\" href=\"/search/map/Mars/Viking/schiaparelli_enhanced\"><img alt=\"Schiaparelli Hemisphere Enhanced thumbnail\" class=\"thumb\" src=\"/cache/images/7677c0a006b83871b5a2f66985ab5857_schiaparelli_enhanced.tif_thumb.png\"/></a>,\n",
       " <a class=\"itemLink product-item\" href=\"/search/map/Mars/Viking/schiaparelli_enhanced\"><h3>Schiaparelli Hemisphere Enhanced</h3></a>,\n",
       " <a class=\"itemLink product-item\" href=\"/search/map/Mars/Viking/syrtis_major_enhanced\"><img alt=\"Syrtis Major Hemisphere Enhanced thumbnail\" class=\"thumb\" src=\"/cache/images/aae41197e40d6d4f3ea557f8cfe51d15_syrtis_major_enhanced.tif_thumb.png\"/></a>,\n",
       " <a class=\"itemLink product-item\" href=\"/search/map/Mars/Viking/syrtis_major_enhanced\"><h3>Syrtis Major Hemisphere Enhanced</h3></a>,\n",
       " <a class=\"itemLink product-item\" href=\"/search/map/Mars/Viking/valles_marineris_enhanced\"><img alt=\"Valles Marineris Hemisphere Enhanced thumbnail\" class=\"thumb\" src=\"/cache/images/04085d99ec3713883a9a57f42be9c725_valles_marineris_enhanced.tif_thumb.png\"/></a>,\n",
       " <a class=\"itemLink product-item\" href=\"/search/map/Mars/Viking/valles_marineris_enhanced\"><h3>Valles Marineris Hemisphere Enhanced</h3></a>]"
      ]
     },
     "execution_count": 65,
     "metadata": {},
     "output_type": "execute_result"
    }
   ],
   "source": [
    "# gets class holding hemisphere picture\n",
    "returns = soup.find('div', class_=\"collapsible results\")\n",
    "hemispheres = returns.find_all('a')\n",
    "hemispheres"
   ]
  },
  {
   "cell_type": "code",
   "execution_count": 66,
   "metadata": {
    "collapsed": true
   },
   "outputs": [],
   "source": [
    "cerberus_image = browser.find_by_tag('h3')[0]\n",
    "schiaparelli_image =  browser.find_by_tag('h3')[1]\n",
    "syrtis_image = browser.find_by_tag('h3')[2]\n",
    "marineris_image = browser.find_by_tag('h3')[3]"
   ]
  },
  {
   "cell_type": "code",
   "execution_count": 87,
   "metadata": {},
   "outputs": [
    {
     "name": "stdout",
     "output_type": "stream",
     "text": [
      "[{'img_url': 'http://astropedia.astrogeology.usgs.gov/download/Mars/Viking/cerberus_enhanced.tif/full.jpg',\n",
      "  'title': <splinter.driver.webdriver.WebDriverElement object at 0x000001F62FDD7C88>},\n",
      " {'img_url': 'http://astropedia.astrogeology.usgs.gov/download/Mars/Viking/schiaparelli_enhanced.tif/full.jpg',\n",
      "  'title': <splinter.driver.webdriver.WebDriverElement object at 0x000001F62FE18978>},\n",
      " {'img_url': 'http://astropedia.astrogeology.usgs.gov/download/Mars/Viking/syrtis_major_enhanced.tif/full.jpg',\n",
      "  'title': <splinter.driver.webdriver.WebDriverElement object at 0x000001F62FE18860>},\n",
      " {'img_url': 'http://astropedia.astrogeology.usgs.gov/download/Mars/Viking/valles_marineris_enhanced.tif/full.jpg',\n",
      "  'title': <splinter.driver.webdriver.WebDriverElement object at 0x000001F62FE18C18>}]\n"
     ]
    }
   ],
   "source": [
    "browser.find_by_css('.thumb')[0].click()\n",
    "first_img = browser.find_by_text('Sample')['href']\n",
    "browser.back()\n",
    "\n",
    "browser.find_by_css('.thumb')[1].click()\n",
    "second_img = browser.find_by_text('Sample')['href']\n",
    "browser.back()\n",
    "\n",
    "browser.find_by_css('.thumb')[2].click()\n",
    "third_img = browser.find_by_text('Sample')['href']\n",
    "browser.back()\n",
    "\n",
    "browser.find_by_css('.thumb')[3].click()\n",
    "fourth_img = browser.find_by_text('Sample')['href']\n",
    "\n",
    "mars_hemispheres_images = [\n",
    "    {'title': cerberus_image, 'img_url': first_img},\n",
    "    {'title': schiaparelli_image, 'img_url': second_img},\n",
    "    {'title': syrtis_image, 'img_url': third_img},\n",
    "    {'title': marineris_image, 'img_url': fourth_img}\n",
    "]\n",
    "\n",
    "pprint.pprint(mars_hemispheres_images)"
   ]
  },
  {
   "cell_type": "markdown",
   "metadata": {},
   "source": [
    "Approach 2\n",
    "<hr>"
   ]
  },
  {
   "cell_type": "code",
   "execution_count": 71,
   "metadata": {},
   "outputs": [
    {
     "data": {
      "text/plain": [
       "'Astropedia Search Results | USGS Astrogeology Science Center'"
      ]
     },
     "execution_count": 71,
     "metadata": {},
     "output_type": "execute_result"
    }
   ],
   "source": [
    "##Mars Hemispheres (Approach 2)\n",
    "mars_hemisphere_url = 'https://astrogeology.usgs.gov/search/results?q=hemisphere+enhanced&k1=target&v1=Mars/'\n",
    "browser.visit(mars_hemisphere_url)\n",
    "html=browser.html\n",
    "soup = bs(html, 'html.parser')\n",
    "soup.title.text"
   ]
  },
  {
   "cell_type": "code",
   "execution_count": 86,
   "metadata": {},
   "outputs": [
    {
     "name": "stdout",
     "output_type": "stream",
     "text": [
      "[{'img_url': 'https://astrogeology.usgs.gov/search/map/Mars/Viking/cerberus_enhanced',\n",
      "  'title': 'Cerberus Hemisphere Enhanced'},\n",
      " {'img_url': 'https://astrogeology.usgs.gov/search/map/Mars/Viking/schiaparelli_enhanced',\n",
      "  'title': 'Schiaparelli Hemisphere Enhanced'},\n",
      " {'img_url': 'https://astrogeology.usgs.gov/search/map/Mars/Viking/syrtis_major_enhanced',\n",
      "  'title': 'Syrtis Major Hemisphere Enhanced'},\n",
      " {'img_url': 'https://astrogeology.usgs.gov/search/map/Mars/Viking/valles_marineris_enhanced',\n",
      "  'title': 'Valles Marineris Hemisphere Enhanced'}]\n"
     ]
    }
   ],
   "source": [
    "##Loop through all the descriptions in the URL. Append the Description to a description list. Append the URL to a URL list\n",
    "\n",
    "mars_hemispheres_images = {}\n",
    "title_list = []\n",
    "url_list = []\n",
    "descriptions = soup.find_all('div', class_='description')\n",
    "for description in descriptions:\n",
    "    title = description.find('h3').text\n",
    "    img_url = description.a['href']\n",
    "    img_url_final = \"https://astrogeology.usgs.gov\" + img_url\n",
    "    #print(title)\n",
    "    #print(img_url_final)\n",
    "    title_list.append(title)\n",
    "    url_list.append(img_url_final)\n",
    "\n",
    "#Test to make sure that the title and URLs are printing. Python's range function  - indexes 0,1,2 and 3.\n",
    "# for i in range(0,4):\n",
    "#     print(title_list[i])\n",
    "#     print(url_list[i])\n",
    "\n",
    "#Creating a dictionary. The key is the title and the value is the URL.\n",
    "mars_hemispheres_images = [\n",
    "    {'title': title_list[0], 'img_url': url_list[0]},\n",
    "    {'title': title_list[1], 'img_url': url_list[1]},\n",
    "    {'title': title_list[2], 'img_url': url_list[2]},\n",
    "    {'title': title_list[3], 'img_url': url_list[3]}\n",
    "]\n",
    "#Using pprint for \"pretty-print\" instead of a regular print to make the dictionary easier to read.\n",
    "pprint.pprint(mars_hemispheres_images)"
   ]
  },
  {
   "cell_type": "code",
   "execution_count": null,
   "metadata": {
    "collapsed": true
   },
   "outputs": [],
   "source": [
    "def scrape:\n",
    "    #News\n",
    "    mars_dict = []\n",
    "    title = soup.find('div', class_=\"content_title\").text\n",
    "    para = soup.find('div', class_=\"article_teaser_body\").text\n",
    "    print(title)\n",
    "    jpl_url = \"https://www.jpl.nasa.gov/spaceimages/?search=&category=Mars\"\n",
    "    featured_image_url = \"https://www.jpl.nasa.gov/spaceimages/images/wallpaper/PIA16883-1920x1200.jpg\"\n",
    "    twitter_url = \"https://twitter.com/marswxreport?lang=en \"\n",
    "twitter_response = requests.get(twitter_url)\n",
    "soup_weather = bs(twitter_response.text, 'html.parser')\n",
    "mars_weather = soup_weather.find(\"p\", class_=\"TweetTextSize TweetTextSize--normal js-tweet-text tweet-text\").text\n",
    "    #Weather\n",
    "    mars_dict.append({\n",
    "        'news_title': title,\n",
    "        'news_paragraph': para,\n",
    "        'featured_image' : featured_image_url,\n",
    "        'mars_weather': mars_weather\n",
    "    })\n",
    "    #Images\n",
    "    #Fact\n",
    "    #Hemispheres"
   ]
  }
 ],
 "metadata": {
  "kernelspec": {
   "display_name": "Python 3",
   "language": "python",
   "name": "python3"
  },
  "language_info": {
   "codemirror_mode": {
    "name": "ipython",
    "version": 3
   },
   "file_extension": ".py",
   "mimetype": "text/x-python",
   "name": "python",
   "nbconvert_exporter": "python",
   "pygments_lexer": "ipython3",
   "version": "3.6.3"
  }
 },
 "nbformat": 4,
 "nbformat_minor": 2
}
