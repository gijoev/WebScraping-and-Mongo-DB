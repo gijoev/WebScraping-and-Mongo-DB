{
 "cells": [
  {
   "cell_type": "code",
   "execution_count": 25,
   "metadata": {
    "collapsed": true
   },
   "outputs": [],
   "source": [
    "import time\n",
    "from splinter import Browser\n",
    "from bs4 import BeautifulSoup as bs\n",
    "import pandas as pd\n",
    "from selenium import webdriver\n",
    "import requests\n",
    "import os\n",
    "import splinter"
   ]
  },
  {
   "cell_type": "code",
   "execution_count": null,
   "metadata": {
    "collapsed": true
   },
   "outputs": [],
   "source": [
    "!where ch"
   ]
  },
  {
   "cell_type": "code",
   "execution_count": 5,
   "metadata": {
    "collapsed": true
   },
   "outputs": [],
   "source": [
    "def init_browser():\n",
    "    # @NOTE: Replace the path with your actual path to the chromedriver\n",
    "    #executable_path = {\"executable_path\": \"C:\\Users\\anuj\\webScrapingHW\"}\n",
    "    #return Browser(\"chrome\", **executable_path, headless=False)\n",
    "    return Browser(\"chrome\",headless=False)\n",
    "    #browser = Browser(\"chrome\", headless = False)"
   ]
  },
  {
   "cell_type": "code",
   "execution_count": 11,
   "metadata": {
    "collapsed": true
   },
   "outputs": [],
   "source": [
    "#browser = init_browser()\n",
    "browser = Browser(\"chrome\",headless=False)\n",
    "result = {}\n",
    "\n",
    "url = 'https://mars.nasa.gov/news/'\n",
    "browser.visit(url)"
   ]
  },
  {
   "cell_type": "code",
   "execution_count": 26,
   "metadata": {},
   "outputs": [
    {
     "data": {
      "text/plain": [
       "'News  – NASA’s Mars Exploration Program '"
      ]
     },
     "execution_count": 26,
     "metadata": {},
     "output_type": "execute_result"
    }
   ],
   "source": [
    "##Response Method.\n",
    "url = \"https://mars.nasa.gov/news/\"\n",
    "# Retrieve page with the requests module\n",
    "response = requests.get(url)\n",
    "# Create BeautifulSoup object; parse with 'html.parser'\n",
    "soup = bs(response.text, 'html.parser')\n",
    "# Examine the results, then determine element that contains sought info\n",
    "#print(soup.prettify())\n",
    "##Browser Method.\n",
    "## NASA Mars News## NASA \n",
    "#URL of page to be scraped\n",
    "url = 'https://mars.nasa.gov/news/'\n",
    "browser.visit(url)\n",
    "\n",
    "html=browser.html\n",
    "soup = bs(html, 'html.parser')\n",
    "#Test by checking if Title shows up\n",
    "soup.title.text"
   ]
  },
  {
   "cell_type": "code",
   "execution_count": 28,
   "metadata": {},
   "outputs": [
    {
     "name": "stdout",
     "output_type": "stream",
     "text": [
      "NASA's Curiosity Rover Aims to Get Its Rhythm Back\n"
     ]
    }
   ],
   "source": [
    "#####VERSION THAT WORKS!!!\n",
    "browser = Browser(\"chrome\",headless=False)\n",
    "result = {}\n",
    "url = \"https://mars.nasa.gov/news/\"\n",
    "response = requests.get(url)\n",
    "soup = bs(response.text, 'html.parser')\n",
    "url = 'https://mars.nasa.gov/news/'\n",
    "browser.visit(url)\n",
    "html=browser.html\n",
    "soup = bs(html, 'html.parser')\n",
    "#Test by checking if Title shows up\n",
    "soup.title.text\n",
    "result[\"news_title\"] = soup.find('div', class_=\"content_title\").text\n",
    "result[\"news_para\"] = soup.find('div', class_=\"article_teaser_body\").text\n",
    "print(result[\"news_title\"])"
   ]
  },
  {
   "cell_type": "code",
   "execution_count": 38,
   "metadata": {},
   "outputs": [
    {
     "name": "stdout",
     "output_type": "stream",
     "text": [
      "{'fact_table_test': [{'img_url': 'https://astrogeology.usgs.gov/search/map/Mars/Viking/cerberus_enhanced',\n",
      "                      'title': 'Cerberus Hemisphere Enhanced'},\n",
      "                     {'img_url': 'https://astrogeology.usgs.gov/search/map/Mars/Viking/schiaparelli_enhanced',\n",
      "                      'title': 'Schiaparelli Hemisphere Enhanced'},\n",
      "                     {'img_url': 'https://astrogeology.usgs.gov/search/map/Mars/Viking/syrtis_major_enhanced',\n",
      "                      'title': 'Syrtis Major Hemisphere Enhanced'},\n",
      "                     {'img_url': 'https://astrogeology.usgs.gov/search/map/Mars/Viking/valles_marineris_enhanced',\n",
      "                      'title': 'Valles Marineris Hemisphere Enhanced'}],\n",
      " 'featured_image': 'https://www.jpl.nasa.gov/spaceimages/images/wallpaper/PIA16883-1920x1200.jpg',\n",
      " 'mars_weather': 'Sol 2051 (May 14, 2018), Sunny, high 1C/33F, low -71C/-95F, '\n",
      "                 'pressure at 7.39 hPa, daylight 05:21-17:20',\n",
      " 'news_para': 'Rover engineers at JPL will try to restore percussive drilling '\n",
      "              'on Mars this week, part of a larger series of tests that will '\n",
      "              'last through summer.',\n",
      " 'news_title': \"NASA's Curiosity Rover Aims to Get Its Rhythm Back\"}\n"
     ]
    }
   ],
   "source": [
    "import pprint\n",
    "pprint.pprint(result)"
   ]
  },
  {
   "cell_type": "code",
   "execution_count": 30,
   "metadata": {
    "collapsed": true
   },
   "outputs": [],
   "source": [
    "###WORKS\n",
    "jpl_url = \"https://www.jpl.nasa.gov/spaceimages/?search=&category=Mars\"\n",
    "featured_image_url = \"https://www.jpl.nasa.gov/spaceimages/images/wallpaper/PIA16883-1920x1200.jpg\"\n",
    "browser.visit(featured_image_url)\n",
    "time.sleep(5)\n",
    "result[\"featured_image\"] = featured_image_url"
   ]
  },
  {
   "cell_type": "code",
   "execution_count": 32,
   "metadata": {
    "collapsed": true
   },
   "outputs": [],
   "source": [
    "###WORKS\n",
    "twitter_url = \"https://twitter.com/marswxreport?lang=en \"\n",
    "browser.visit(twitter_url)\n",
    "time.sleep(5)\n",
    "twitter_response = requests.get(twitter_url)\n",
    "soup_weather = bs(twitter_response.text, 'html.parser')\n",
    "result[\"mars_weather\"] = soup_weather.find(\"p\", class_=\"TweetTextSize TweetTextSize--normal js-tweet-text tweet-text\").text"
   ]
  },
  {
   "cell_type": "code",
   "execution_count": 35,
   "metadata": {},
   "outputs": [],
   "source": [
    "# weather_url = \"https://space-facts.com/mars/\"\n",
    "# browser.visit(weather_url)\n",
    "# time.sleep(5)\n",
    "# tables = pd.read_html(url)\n",
    "# df = tables[0]\n",
    "# mars_df = df.transpose()\n",
    "# mars_df.columns = ['Equatorial Diameter', 'Polar Diameter', 'Mass', 'Moons', \n",
    "#           'Orbit Distance', 'Orbit Period', 'Surface Temperature', 'First Record', \n",
    "#           'Recorded By']\n",
    "# mars_df = mars_df.iloc[1:]\n",
    "# #fact_table = mars_df.to_html(index = False)\n",
    "# fact_table.replace('\\n', '')\n",
    "# #mars_df.to_html('fact_table.html')\n",
    "# fact_table = fact_table.to_dict() \n",
    "# result[\"fact_table\"] = fact_table\n",
    "\n",
    "###VERSION THAT WORKS!\n",
    "\n",
    "mars_hemisphere_url = 'https://astrogeology.usgs.gov/search/results?q=hemisphere+enhanced&k1=target&v1=Mars/'\n",
    "browser.visit(mars_hemisphere_url)\n",
    "html=browser.html\n",
    "soup = bs(html, 'html.parser')\n",
    "soup.title.text\n",
    "mars_hemispheres_images = {}\n",
    "title_list = []\n",
    "url_list = []\n",
    "descriptions = soup.find_all('div', class_='description')\n",
    "for description in descriptions:\n",
    "    title = description.find('h3').text\n",
    "    img_url = description.a['href']\n",
    "    img_url_final = \"https://astrogeology.usgs.gov\" + img_url\n",
    "    #print(title)\n",
    "    #print(img_url_final)\n",
    "    title_list.append(title)\n",
    "    url_list.append(img_url_final)\n",
    "\n",
    "#Test to make sure that the title and URLs are printing. Python's range function  - indexes 0,1,2 and 3.\n",
    "# for i in range(0,4):\n",
    "#     print(title_list[i])\n",
    "#     print(url_list[i])\n",
    "\n",
    "#Creating a dictionary. The key is the title and the value is the URL.\n",
    "mars_hemispheres_images = [\n",
    "    {'title': title_list[0], 'img_url': url_list[0]},\n",
    "    {'title': title_list[1], 'img_url': url_list[1]},\n",
    "    {'title': title_list[2], 'img_url': url_list[2]},\n",
    "    {'title': title_list[3], 'img_url': url_list[3]}\n",
    "]\n",
    "#Using pprint for \"pretty-print\" instead of a regular print to make the dictionary easier to read.\n",
    "#pprint.pprint(mars_hemispheres_images)\n",
    "#mars_hemispheres_images = mars_hemispheres_images.to_dict()\n",
    "result[\"fact_table_test\"] = mars_hemispheres_images"
   ]
  },
  {
   "cell_type": "code",
   "execution_count": 39,
   "metadata": {},
   "outputs": [
    {
     "data": {
      "text/plain": [
       "[{'img_url': 'https://astrogeology.usgs.gov/search/map/Mars/Viking/cerberus_enhanced',\n",
       "  'title': 'Cerberus Hemisphere Enhanced'},\n",
       " {'img_url': 'https://astrogeology.usgs.gov/search/map/Mars/Viking/schiaparelli_enhanced',\n",
       "  'title': 'Schiaparelli Hemisphere Enhanced'},\n",
       " {'img_url': 'https://astrogeology.usgs.gov/search/map/Mars/Viking/syrtis_major_enhanced',\n",
       "  'title': 'Syrtis Major Hemisphere Enhanced'},\n",
       " {'img_url': 'https://astrogeology.usgs.gov/search/map/Mars/Viking/valles_marineris_enhanced',\n",
       "  'title': 'Valles Marineris Hemisphere Enhanced'}]"
      ]
     },
     "execution_count": 39,
     "metadata": {},
     "output_type": "execute_result"
    }
   ],
   "source": [
    "mars_hemispheres_images"
   ]
  },
  {
   "cell_type": "code",
   "execution_count": 41,
   "metadata": {},
   "outputs": [
    {
     "data": {
      "text/plain": [
       "list"
      ]
     },
     "execution_count": 41,
     "metadata": {},
     "output_type": "execute_result"
    }
   ],
   "source": [
    "type(mars_hemispheres_images)"
   ]
  },
  {
   "cell_type": "code",
   "execution_count": 40,
   "metadata": {},
   "outputs": [
    {
     "ename": "AttributeError",
     "evalue": "'list' object has no attribute 'to_dict'",
     "output_type": "error",
     "traceback": [
      "\u001b[1;31m---------------------------------------------------------------------------\u001b[0m",
      "\u001b[1;31mAttributeError\u001b[0m                            Traceback (most recent call last)",
      "\u001b[1;32m<ipython-input-40-3cb4f5cf6188>\u001b[0m in \u001b[0;36m<module>\u001b[1;34m()\u001b[0m\n\u001b[1;32m----> 1\u001b[1;33m \u001b[0mmars_hemispheres_images\u001b[0m \u001b[1;33m=\u001b[0m \u001b[0mmars_hemispheres_images\u001b[0m\u001b[1;33m.\u001b[0m\u001b[0mto_dict\u001b[0m\u001b[1;33m(\u001b[0m\u001b[1;33m)\u001b[0m\u001b[1;33m\u001b[0m\u001b[0m\n\u001b[0m\u001b[0;32m      2\u001b[0m \u001b[0mmars_hemispheres_images\u001b[0m\u001b[1;33m\u001b[0m\u001b[0m\n",
      "\u001b[1;31mAttributeError\u001b[0m: 'list' object has no attribute 'to_dict'"
     ]
    }
   ],
   "source": [
    "mars_hemispheres_images = mars_hemispheres_images.to_dict()\n",
    "mars_hemispheres_images"
   ]
  },
  {
   "cell_type": "code",
   "execution_count": 42,
   "metadata": {},
   "outputs": [
    {
     "name": "stdout",
     "output_type": "stream",
     "text": [
      "start of Facts\n",
      "end of Facts\n"
     ]
    }
   ],
   "source": [
    "#Mars Facts - Version that works\n",
    "updates = {}\n",
    "print('start of Facts')\n",
    "url=\"https://space-facts.com/mars/\"\n",
    "marsFacts=pd.read_html(url)\n",
    "facts=marsFacts[0]\n",
    "facts.columns= ['fact', 'Number']\n",
    "facts=facts.set_index('fact')['Number'].to_dict()\n",
    "updates['facts']=facts\n",
    "print('end of Facts')"
   ]
  },
  {
   "cell_type": "code",
   "execution_count": 43,
   "metadata": {},
   "outputs": [
    {
     "name": "stdout",
     "output_type": "stream",
     "text": [
      "{'Equatorial Diameter:': '6,792 km', 'Polar Diameter:': '6,752 km', 'Mass:': '6.42 x 10^23 kg (10.7% Earth)', 'Moons:': '2 (Phobos & Deimos)', 'Orbit Distance:': '227,943,824 km (1.52 AU)', 'Orbit Period:': '687 days (1.9 years)', 'Surface Temperature:': '-153 to 20 °C', 'First Record:': '2nd millennium BC', 'Recorded By:': 'Egyptian astronomers'}\n"
     ]
    }
   ],
   "source": [
    "print(updates['facts'])"
   ]
  },
  {
   "cell_type": "code",
   "execution_count": 47,
   "metadata": {
    "collapsed": true
   },
   "outputs": [],
   "source": [
    "def scrape():\n",
    "\n",
    "    browser = Browser(\"chrome\",headless=False)\n",
    "    result = {}\n",
    "    url = \"https://mars.nasa.gov/news/\"\n",
    "    response = requests.get(url)\n",
    "    soup = bs(response.text, 'html.parser')\n",
    "    url = 'https://mars.nasa.gov/news/'\n",
    "    browser.visit(url)\n",
    "    html=browser.html\n",
    "    soup = bs(html, 'html.parser')\n",
    "    #Test by checking if Title shows up\n",
    "    #soup.title.text\n",
    "    print(\"Getting news title\")\n",
    "    result[\"news_title\"] = soup.find('div', class_=\"content_title\").text\n",
    "    result[\"news_para\"] = soup.find('div', class_=\"article_teaser_body\").text\n",
    "    #print(result[\"news_title\"])\n",
    "    print(\"Got news title and paragraph\")\n",
    "    \n",
    "\n",
    "    #SECOND TEST. It works in my test\n",
    "    jpl_url = \"https://www.jpl.nasa.gov/spaceimages/?search=&category=Mars\"\n",
    "    featured_image_url = \"https://www.jpl.nasa.gov/spaceimages/images/wallpaper/PIA16883-1920x1200.jpg\"\n",
    "    browser.visit(featured_image_url)\n",
    "    time.sleep(5)\n",
    "    result[\"featured_image\"] = featured_image_url\n",
    "    print(\"Got featured image\")\n",
    "    \n",
    "    #TWITTER - Worked in test\n",
    "    twitter_url = \"https://twitter.com/marswxreport?lang=en \"\n",
    "    browser.visit(twitter_url)\n",
    "    time.sleep(5)\n",
    "    twitter_response = requests.get(twitter_url)\n",
    "    soup_weather = bs(twitter_response.text, 'html.parser')\n",
    "    result[\"mars_weather\"] = soup_weather.find(\"p\", class_=\"TweetTextSize TweetTextSize--normal js-tweet-text tweet-text\").text\n",
    "    print(\"Got twitter information\")\n",
    "    \n",
    "\n",
    "    #Mars Facts\n",
    "    print('start of Facts')\n",
    "    url=\"https://space-facts.com/mars/\"\n",
    "    marsFacts=pd.read_html(url)\n",
    "    facts=marsFacts[0]\n",
    "    facts.columns= ['fact', 'Number']\n",
    "    facts=facts.set_index('fact')['Number'].to_dict()\n",
    "    result['facts']=facts\n",
    "    print('end of Facts')\n",
    "    \n",
    "    #Mars hemispheres that works\n",
    "    print('start of hemisphere images')\n",
    "    mars_hemisphere_url = 'https://astrogeology.usgs.gov/search/results?q=hemisphere+enhanced&k1=target&v1=Mars/'\n",
    "    browser.visit(mars_hemisphere_url)\n",
    "    time.sleep(5)\n",
    "    html=browser.html\n",
    "    soup = bs(html, 'html.parser')\n",
    "    soup.title.text\n",
    "    mars_hemispheres_images = {}\n",
    "    title_list = []\n",
    "    url_list = []\n",
    "    descriptions = soup.find_all('div', class_='description')\n",
    "    for description in descriptions:\n",
    "        title = description.find('h3').text\n",
    "        img_url = description.a['href']\n",
    "        img_url_final = \"https://astrogeology.usgs.gov\" + img_url\n",
    "        #print(title)\n",
    "        #print(img_url_final)\n",
    "        title_list.append(title)\n",
    "        url_list.append(img_url_final)\n",
    "\n",
    "    #Creating a dictionary. The key is the title and the value is the URL.\n",
    "    mars_hemispheres_images = [\n",
    "        {'title': title_list[0], 'img_url': url_list[0]},\n",
    "        {'title': title_list[1], 'img_url': url_list[1]},\n",
    "        {'title': title_list[2], 'img_url': url_list[2]},\n",
    "        {'title': title_list[3], 'img_url': url_list[3]}\n",
    "    ]\n",
    "\n",
    "    result[\"mars_hemispheres_images\"] = mars_hemispheres_images\n",
    "    print('end of hemisphere images')\n",
    "    \n",
    "    return result\n",
    "    "
   ]
  },
  {
   "cell_type": "code",
   "execution_count": 48,
   "metadata": {},
   "outputs": [
    {
     "name": "stdout",
     "output_type": "stream",
     "text": [
      "Getting news title\n",
      "Got news title and paragraph\n",
      "Got featured image\n",
      "Got twitter information\n",
      "start of Facts\n",
      "end of Facts\n",
      "start of hemisphere images\n",
      "end of hemisphere images\n"
     ]
    },
    {
     "data": {
      "text/plain": [
       "{'facts': {'Equatorial Diameter:': '6,792 km',\n",
       "  'First Record:': '2nd millennium BC',\n",
       "  'Mass:': '6.42 x 10^23 kg (10.7% Earth)',\n",
       "  'Moons:': '2 (Phobos & Deimos)',\n",
       "  'Orbit Distance:': '227,943,824 km (1.52 AU)',\n",
       "  'Orbit Period:': '687 days (1.9 years)',\n",
       "  'Polar Diameter:': '6,752 km',\n",
       "  'Recorded By:': 'Egyptian astronomers',\n",
       "  'Surface Temperature:': '-153 to 20 °C'},\n",
       " 'featured_image': 'https://www.jpl.nasa.gov/spaceimages/images/wallpaper/PIA16883-1920x1200.jpg',\n",
       " 'mars_hemispheres_images': [{'img_url': 'https://astrogeology.usgs.gov/search/map/Mars/Viking/cerberus_enhanced',\n",
       "   'title': 'Cerberus Hemisphere Enhanced'},\n",
       "  {'img_url': 'https://astrogeology.usgs.gov/search/map/Mars/Viking/schiaparelli_enhanced',\n",
       "   'title': 'Schiaparelli Hemisphere Enhanced'},\n",
       "  {'img_url': 'https://astrogeology.usgs.gov/search/map/Mars/Viking/syrtis_major_enhanced',\n",
       "   'title': 'Syrtis Major Hemisphere Enhanced'},\n",
       "  {'img_url': 'https://astrogeology.usgs.gov/search/map/Mars/Viking/valles_marineris_enhanced',\n",
       "   'title': 'Valles Marineris Hemisphere Enhanced'}],\n",
       " 'mars_weather': 'Sol 2051 (May 14, 2018), Sunny, high 1C/33F, low -71C/-95F, pressure at 7.39 hPa, daylight 05:21-17:20',\n",
       " 'news_para': 'Rover engineers at JPL will try to restore percussive drilling on Mars this week, part of a larger series of tests that will last through summer.',\n",
       " 'news_title': \"NASA's Curiosity Rover Aims to Get Its Rhythm Back\"}"
      ]
     },
     "execution_count": 48,
     "metadata": {},
     "output_type": "execute_result"
    }
   ],
   "source": [
    "scrape()"
   ]
  },
  {
   "cell_type": "code",
   "execution_count": 44,
   "metadata": {},
   "outputs": [],
   "source": [
    "    #browser = init_browser()\n",
    "#     browser = Browser(\"chrome\",headless=False)\n",
    "#     result = {}\n",
    "#     html = browser.html\n",
    "#     url = 'https://mars.nasa.gov/news/'\n",
    "#     browser.visit(url)\n",
    "#     time.sleep(1)\n",
    "#     soup = BeautifulSoup(html, \"html.parser\")\n",
    "#     result[\"news_title\"] = soup.find('div', class_=\"content_title\").text\n",
    "#     result[\"news_para\"] = soup.find('div', class_=\"article_teaser_body\").textscrape()"
   ]
  },
  {
   "cell_type": "code",
   "execution_count": null,
   "metadata": {
    "collapsed": true
   },
   "outputs": [],
   "source": [
    "\n",
    "\n",
    "#     weather_url = \"https://space-facts.com/mars/\"\n",
    "#     browser.visit(weather_url)\n",
    "#     time.sleep(5)\n",
    "#     tables = pd.read_html(url)\n",
    "#     df = tables[0]\n",
    "#     mars_df = df.transpose()\n",
    "#     mars_df.columns = ['Equatorial Diameter', 'Polar Diameter', 'Mass', 'Moons', \n",
    "#               'Orbit Distance', 'Orbit Period', 'Surface Temperature', 'First Record', \n",
    "#               'Recorded By']\n",
    "#     mars_df = mars_df.iloc[1:]\n",
    "#     #fact_table = mars_df.to_html(index = False)\n",
    "#     fact_table.replace('\\n', '')\n",
    "#     #mars_df.to_html('fact_table.html')\n",
    "#     fact_table = fact_table.to_dict() \n",
    "#     result[\"fact_table\"] = fact_table\n",
    "    \n",
    "    #Mars Facts\n",
    "#    print('start of Facts')\n",
    "#    url=\"https://space-facts.com/mars/\"\n",
    "#    marsFacts=pd.read_html(url)\n",
    "#    facts=marsFacts[0]\n",
    "#    facts.columns= ['fact', 'Number']\n",
    "#    facts=facts.set_index('fact')['Number'].to_dict()\n",
    "#    updates['facts']=facts\n",
    "#    print('end of Facts')"
   ]
  }
 ],
 "metadata": {
  "kernelspec": {
   "display_name": "Python 3",
   "language": "python",
   "name": "python3"
  },
  "language_info": {
   "codemirror_mode": {
    "name": "ipython",
    "version": 3
   },
   "file_extension": ".py",
   "mimetype": "text/x-python",
   "name": "python",
   "nbconvert_exporter": "python",
   "pygments_lexer": "ipython3",
   "version": "3.6.3"
  }
 },
 "nbformat": 4,
 "nbformat_minor": 2
}
